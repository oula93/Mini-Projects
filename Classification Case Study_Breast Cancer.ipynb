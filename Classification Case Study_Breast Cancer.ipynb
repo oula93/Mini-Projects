{
 "cells": [
  {
   "cell_type": "markdown",
   "metadata": {},
   "source": [
    "<b>Classification Case Study: Breast Cancer</b>\n",
    "\n",
    "dataset source: https://archive.ics.uci.edu/ml/datasets/breast+cancer+wisconsin+(original)\n",
    "\n",
    "We will classify if the breast cancer is benign or malignant based in the following features:\n",
    "\n",
    "\n",
    " <br>. Clump Thickness: 1 - 10\n",
    " <br>. Uniformity of Cell Size: 1 - 10\n",
    " <br>. Uniformity of Cell Shape: 1 - 10\n",
    " <br>. Marginal Adhesion: 1 - 10\n",
    " <br>. Single Epithelial Cell Size: 1 - 10\n",
    " <br>. Bare Nuclei: 1 - 10\n",
    " <br>. Bland Chromatin: 1 - 10\n",
    " <br>. Normal Nucleoli: 1 - 10\n",
    " <br>. Mitoses: 1 - 10\n",
    "\n",
    "We'll be using the following classification models: Logistic Regression, K-Nearest Neighbors (KNN), Support Vector Machines (SVM), Kernel SVM, Naive Bayes, Decision Tree Classification, Random Forest Classification \n",
    "\n",
    "<br><small> The project is based on the Udemy Course \"Machine learning with Python and R\" by Kirill Eremenko and Hadelin de Ponteves\n"
   ]
  },
  {
   "cell_type": "code",
   "execution_count": 1,
   "metadata": {},
   "outputs": [],
   "source": [
    "import numpy as np\n",
    "import pandas as pd\n",
    "import matplotlib.pyplot as plt\n",
    "from sklearn.model_selection import train_test_split\n",
    "from sklearn.preprocessing import StandardScaler\n",
    "from sklearn.linear_model import LogisticRegression\n",
    "from sklearn.metrics import confusion_matrix\n",
    "from sklearn.metrics import accuracy_score\n",
    "from sklearn.model_selection import cross_val_score\n",
    "from sklearn.neighbors import KNeighborsClassifier\n",
    "from sklearn.svm import SVC\n",
    "from sklearn.naive_bayes import GaussianNB\n",
    "from sklearn.tree import DecisionTreeClassifier\n",
    "from sklearn.ensemble import RandomForestClassifier"
   ]
  },
  {
   "cell_type": "code",
   "execution_count": 16,
   "metadata": {},
   "outputs": [],
   "source": [
    "# Ignore sklearn future warnings:\n",
    "# import warnings filter\n",
    "from warnings import simplefilter\n",
    "# ignore all warnings\n",
    "simplefilter(action='ignore', category=FutureWarning)\n",
    "# Ignore Data conversion warnings\n",
    "import warnings\n",
    "from sklearn.exceptions import DataConversionWarning\n",
    "warnings.filterwarnings(action='ignore', category=DataConversionWarning)"
   ]
  },
  {
   "cell_type": "code",
   "execution_count": 20,
   "metadata": {},
   "outputs": [
    {
     "data": {
      "text/html": [
       "<div>\n",
       "<style scoped>\n",
       "    .dataframe tbody tr th:only-of-type {\n",
       "        vertical-align: middle;\n",
       "    }\n",
       "\n",
       "    .dataframe tbody tr th {\n",
       "        vertical-align: top;\n",
       "    }\n",
       "\n",
       "    .dataframe thead th {\n",
       "        text-align: right;\n",
       "    }\n",
       "</style>\n",
       "<table border=\"1\" class=\"dataframe\">\n",
       "  <thead>\n",
       "    <tr style=\"text-align: right;\">\n",
       "      <th></th>\n",
       "      <th>Sample code number</th>\n",
       "      <th>Clump Thickness</th>\n",
       "      <th>Uniformity of Cell Size</th>\n",
       "      <th>Uniformity of Cell Shape</th>\n",
       "      <th>Marginal Adhesion</th>\n",
       "      <th>Single Epithelial Cell Size</th>\n",
       "      <th>Bare Nuclei</th>\n",
       "      <th>Bland Chromatin</th>\n",
       "      <th>Normal Nucleoli</th>\n",
       "      <th>Mitoses</th>\n",
       "      <th>Class</th>\n",
       "    </tr>\n",
       "  </thead>\n",
       "  <tbody>\n",
       "    <tr>\n",
       "      <th>0</th>\n",
       "      <td>1000025</td>\n",
       "      <td>5</td>\n",
       "      <td>1</td>\n",
       "      <td>1</td>\n",
       "      <td>1</td>\n",
       "      <td>2</td>\n",
       "      <td>1</td>\n",
       "      <td>3</td>\n",
       "      <td>1</td>\n",
       "      <td>1</td>\n",
       "      <td>2</td>\n",
       "    </tr>\n",
       "    <tr>\n",
       "      <th>1</th>\n",
       "      <td>1002945</td>\n",
       "      <td>5</td>\n",
       "      <td>4</td>\n",
       "      <td>4</td>\n",
       "      <td>5</td>\n",
       "      <td>7</td>\n",
       "      <td>10</td>\n",
       "      <td>3</td>\n",
       "      <td>2</td>\n",
       "      <td>1</td>\n",
       "      <td>2</td>\n",
       "    </tr>\n",
       "    <tr>\n",
       "      <th>2</th>\n",
       "      <td>1015425</td>\n",
       "      <td>3</td>\n",
       "      <td>1</td>\n",
       "      <td>1</td>\n",
       "      <td>1</td>\n",
       "      <td>2</td>\n",
       "      <td>2</td>\n",
       "      <td>3</td>\n",
       "      <td>1</td>\n",
       "      <td>1</td>\n",
       "      <td>2</td>\n",
       "    </tr>\n",
       "    <tr>\n",
       "      <th>3</th>\n",
       "      <td>1016277</td>\n",
       "      <td>6</td>\n",
       "      <td>8</td>\n",
       "      <td>8</td>\n",
       "      <td>1</td>\n",
       "      <td>3</td>\n",
       "      <td>4</td>\n",
       "      <td>3</td>\n",
       "      <td>7</td>\n",
       "      <td>1</td>\n",
       "      <td>2</td>\n",
       "    </tr>\n",
       "    <tr>\n",
       "      <th>4</th>\n",
       "      <td>1017023</td>\n",
       "      <td>4</td>\n",
       "      <td>1</td>\n",
       "      <td>1</td>\n",
       "      <td>3</td>\n",
       "      <td>2</td>\n",
       "      <td>1</td>\n",
       "      <td>3</td>\n",
       "      <td>1</td>\n",
       "      <td>1</td>\n",
       "      <td>2</td>\n",
       "    </tr>\n",
       "  </tbody>\n",
       "</table>\n",
       "</div>"
      ],
      "text/plain": [
       "   Sample code number  Clump Thickness  Uniformity of Cell Size  \\\n",
       "0             1000025                5                        1   \n",
       "1             1002945                5                        4   \n",
       "2             1015425                3                        1   \n",
       "3             1016277                6                        8   \n",
       "4             1017023                4                        1   \n",
       "\n",
       "   Uniformity of Cell Shape  Marginal Adhesion  Single Epithelial Cell Size  \\\n",
       "0                         1                  1                            2   \n",
       "1                         4                  5                            7   \n",
       "2                         1                  1                            2   \n",
       "3                         8                  1                            3   \n",
       "4                         1                  3                            2   \n",
       "\n",
       "   Bare Nuclei  Bland Chromatin  Normal Nucleoli  Mitoses  Class  \n",
       "0            1                3                1        1      2  \n",
       "1           10                3                2        1      2  \n",
       "2            2                3                1        1      2  \n",
       "3            4                3                7        1      2  \n",
       "4            1                3                1        1      2  "
      ]
     },
     "execution_count": 20,
     "metadata": {},
     "output_type": "execute_result"
    }
   ],
   "source": [
    "# Importing the dataset \n",
    "dataset = pd.read_csv(\"breast_cancer.csv\")\n",
    "X = dataset.iloc[:,1:-1].values\n",
    "y = dataset.iloc[:,-1].values\n",
    "dataset.head()"
   ]
  },
  {
   "cell_type": "markdown",
   "metadata": {},
   "source": [
    "<li><b> Logistic Regression "
   ]
  },
  {
   "cell_type": "code",
   "execution_count": 21,
   "metadata": {
    "scrolled": true
   },
   "outputs": [
    {
     "name": "stdout",
     "output_type": "stream",
     "text": [
      "[[84  3]\n",
      " [ 4 46]]\n",
      "Accuracy Score: 0.95 %\n",
      "\n",
      "K-folds Accuracy: 96.70 %\n",
      "Standard Deviation: 2.43 %\n"
     ]
    }
   ],
   "source": [
    "# 1) Splitting the dataset\n",
    "X_train, X_test, y_train, y_test = train_test_split(X,y,test_size=0.2,random_state = 0)\n",
    "\n",
    "# 2) Building the Logistic Regression Model\n",
    "classifier = LogisticRegression(random_state=0)\n",
    "classifier.fit(X_train,y_train)\n",
    "\n",
    "# 3) Predicting y_test\n",
    "y_pred = classifier.predict(X_test)\n",
    "\n",
    "# 4) How good are the results ?\n",
    "# a) confusion matrix:\n",
    "cf = confusion_matrix(y_test,y_pred)\n",
    "print(cf)\n",
    "\n",
    "# b) accuracy score\n",
    "A = accuracy_score(y_test,y_pred)\n",
    "print(\"Accuracy Score: {:.2f} %\\n\".format(A))\n",
    "\n",
    "# c) Accuracy with k-fold Cross Validation = building 10 sets and creating 10 accuracies and averaging those\n",
    "accuracies = cross_val_score(classifier,X_train,y_train,cv=10)\n",
    "print(\"K-folds Accuracy: {:.2f} %\".format(accuracies.mean()*100))\n",
    "print(\"Standard Deviation: {:.2f} %\".format(accuracies.std()*100))"
   ]
  },
  {
   "cell_type": "markdown",
   "metadata": {},
   "source": [
    "<li><b> K-Nearest Neighbors (KNN)"
   ]
  },
  {
   "cell_type": "code",
   "execution_count": 22,
   "metadata": {},
   "outputs": [
    {
     "name": "stdout",
     "output_type": "stream",
     "text": [
      "[[103   4]\n",
      " [  5  59]]\n",
      "Accuracy Score: 0.95 %\n",
      "\n"
     ]
    }
   ],
   "source": [
    "# 1) Split the dataset into training set and test set\n",
    "X_train, X_test, y_train, y_test = train_test_split(X,y,test_size=0.25,random_state=0)\n",
    "\n",
    "# 2) Feature Scaling\n",
    "# not required but applying it will improve the model performance\n",
    "sc = StandardScaler()\n",
    "X_train = sc.fit_transform(X_train)\n",
    "X_test = sc.transform(X_test)\n",
    "\n",
    "# 3) Building the KNN Model\n",
    "classifier = KNeighborsClassifier(n_neighbors = 5, metric = 'minkowski', p = 2)\n",
    "classifier.fit(X_train,y_train)\n",
    "\n",
    "# 4) Predicting y_test\n",
    "y_pred = classifier.predict(X_test)\n",
    "\n",
    "# 5) How good are the results ?\n",
    "# a) confusion matrix:\n",
    "cf = confusion_matrix(y_test,y_pred)\n",
    "print(cf)\n",
    "\n",
    "# b) accuracy score\n",
    "A = accuracy_score(y_test,y_pred)\n",
    "print(\"Accuracy Score: {:.2f} %\\n\".format(A))"
   ]
  },
  {
   "cell_type": "markdown",
   "metadata": {},
   "source": [
    "<li><b> Support Vector Machines (SVM)(Linear)"
   ]
  },
  {
   "cell_type": "code",
   "execution_count": 24,
   "metadata": {},
   "outputs": [
    {
     "name": "stdout",
     "output_type": "stream",
     "text": [
      "[[102   5]\n",
      " [  5  59]]\n",
      "Accuracy Score: 0.94 %\n",
      "\n"
     ]
    }
   ],
   "source": [
    "# 1) Splitting the dataset\n",
    "X_train, X_test, y_train, y_test = train_test_split(X,y,test_size=0.25,random_state = 0)\n",
    "\n",
    "# 2) Feature Scaling\n",
    "# Necessart for Support Vector\n",
    "sc = StandardScaler()\n",
    "X_train = sc.fit_transform(X_train)\n",
    "X_test = sc.transform(X_test)\n",
    "\n",
    "# 3) Building the SVM Model\n",
    "classifier = SVC(kernel='linear',random_state=0)\n",
    "classifier.fit(X_train,y_train)\n",
    "\n",
    "# 4) Predicting y_test\n",
    "y_pred = classifier.predict(X_test)\n",
    "\n",
    "# 5) How good are the results ?\n",
    "# a) confusion matrix:\n",
    "cm = confusion_matrix(y_test,y_pred)\n",
    "print(cm)\n",
    "\n",
    "# b) accuracy score\n",
    "A = accuracy_score(y_test,y_pred)\n",
    "print(\"Accuracy Score: {:.2f} %\\n\".format(A))"
   ]
  },
  {
   "cell_type": "markdown",
   "metadata": {},
   "source": [
    "<li><b> Kernel SVM (Non Linear)"
   ]
  },
  {
   "cell_type": "code",
   "execution_count": 25,
   "metadata": {},
   "outputs": [
    {
     "name": "stdout",
     "output_type": "stream",
     "text": [
      "[[101   6]\n",
      " [  3  61]]\n",
      "Accuracy Score: 0.95 %\n",
      "\n"
     ]
    }
   ],
   "source": [
    "# 1) Splitting the dataset\n",
    "X_train, X_test, y_train, y_test = train_test_split(X,y,test_size=0.25,random_state = 0)\n",
    "\n",
    "# 2) Feature Scaling\n",
    "# Necessart for Support Vector\n",
    "sc = StandardScaler()\n",
    "X_train = sc.fit_transform(X_train)\n",
    "X_test = sc.transform(X_test)\n",
    "\n",
    "# 3) Building Kernel SVM model\n",
    "classifier = SVC(kernel='rbf',random_state=0)\n",
    "classifier.fit(X_train,y_train)\n",
    "\n",
    "# 4) Predicting y_test\n",
    "y_pred = classifier.predict(X_test)\n",
    "\n",
    "# 5) How good are the results ?\n",
    "# a) confusion matrix:\n",
    "cm = confusion_matrix(y_test,y_pred)\n",
    "print(cm)\n",
    "\n",
    "# b) accuracy score\n",
    "A = accuracy_score(y_test,y_pred)\n",
    "print(\"Accuracy Score: {:.2f} %\\n\".format(A))"
   ]
  },
  {
   "cell_type": "markdown",
   "metadata": {},
   "source": [
    "<li><b> Naive Bayes"
   ]
  },
  {
   "cell_type": "code",
   "execution_count": 26,
   "metadata": {},
   "outputs": [
    {
     "name": "stdout",
     "output_type": "stream",
     "text": [
      "[[99  8]\n",
      " [ 2 62]]\n",
      "Accuracy Score: 0.94 %\n",
      "\n"
     ]
    }
   ],
   "source": [
    "# 1) Splitting the dataset\n",
    "# specify that we want a linear kernel\n",
    "X_train, X_test, y_train, y_test = train_test_split(X,y,test_size=0.25,random_state = 0)\n",
    "\n",
    "# 2) Feature Scaling\n",
    "# It seems that it doesn't change anything here\n",
    "sc = StandardScaler()\n",
    "X_train = sc.fit_transform(X_train)\n",
    "X_test = sc.transform(X_test)\n",
    "\n",
    "# 3) Building the Logistic Regression Model\n",
    "classifier = GaussianNB()\n",
    "classifier.fit(X_train,y_train)\n",
    "\n",
    "# 4) Predicting y_test\n",
    "y_pred = classifier.predict(X_test)\n",
    "\n",
    "# 5) How good are the results ?\n",
    "# a) confusion matrix:\n",
    "cm = confusion_matrix(y_test,y_pred)\n",
    "print(cm)\n",
    "\n",
    "# b) accuracy score\n",
    "A = accuracy_score(y_test,y_pred)\n",
    "print(\"Accuracy Score: {:.2f} %\\n\".format(A))"
   ]
  },
  {
   "cell_type": "markdown",
   "metadata": {},
   "source": [
    "<li><b> Decision Tree Classification"
   ]
  },
  {
   "cell_type": "code",
   "execution_count": 27,
   "metadata": {},
   "outputs": [
    {
     "name": "stdout",
     "output_type": "stream",
     "text": [
      "[[104   3]\n",
      " [  4  60]]\n",
      "Accuracy Score: 0.96 %\n",
      "\n"
     ]
    }
   ],
   "source": [
    "# 1) Splitting the dataset\n",
    "X_train, X_test, y_train, y_test = train_test_split(X,y,test_size=0.25,random_state = 0)\n",
    "\n",
    "# 2) Feature Scaling\n",
    "sc = StandardScaler()\n",
    "X_train = sc.fit_transform(X_train)\n",
    "X_test = sc.transform(X_test)\n",
    "\n",
    "# 3) Building the Logistic Regression Model\n",
    "classifier = DecisionTreeClassifier(criterion='entropy',random_state=0)\n",
    "classifier.fit(X_train,y_train)\n",
    "\n",
    "# 4) Predicting y_test\n",
    "y_pred = classifier.predict(X_test)\n",
    "\n",
    "# 5) How good are the results ?\n",
    "\n",
    "# a) confusion matrix:\n",
    "cm = confusion_matrix(y_test,y_pred)\n",
    "print(cm)\n",
    "\n",
    "# b) accuracy score\n",
    "A = accuracy_score(y_test,y_pred)\n",
    "print(\"Accuracy Score: {:.2f} %\\n\".format(A))"
   ]
  },
  {
   "cell_type": "markdown",
   "metadata": {},
   "source": [
    "<li><b> Random Forest Classification"
   ]
  },
  {
   "cell_type": "code",
   "execution_count": 28,
   "metadata": {},
   "outputs": [
    {
     "name": "stdout",
     "output_type": "stream",
     "text": [
      "[[104   3]\n",
      " [  5  59]]\n",
      "Accuracy Score: 0.95 %\n",
      "\n"
     ]
    }
   ],
   "source": [
    "# 1) Splitting the dataset\n",
    "X_train, X_test, y_train, y_test = train_test_split(X,y,test_size=0.25,random_state = 0)\n",
    "\n",
    "# 2) Feature Scaling\n",
    "sc = StandardScaler()\n",
    "X_train = sc.fit_transform(X_train)\n",
    "X_test = sc.transform(X_test)\n",
    "\n",
    "# 3) Building the Logistic Regression Model\n",
    "classifier = RandomForestClassifier(n_estimators=10,criterion='entropy',random_state=0)\n",
    "classifier.fit(X_train,y_train)\n",
    "\n",
    "# 4) Predicting y_test\n",
    "y_pred = classifier.predict(X_test)\n",
    "\n",
    "# 5) How good are the results ?\n",
    "# a) confusion matrix:\n",
    "cm = confusion_matrix(y_test,y_pred)\n",
    "print(cm)\n",
    "\n",
    "# b) accuracy score\n",
    "A = accuracy_score(y_test,y_pred)\n",
    "print(\"Accuracy Score: {:.2f} %\\n\".format(A))"
   ]
  },
  {
   "cell_type": "code",
   "execution_count": null,
   "metadata": {},
   "outputs": [],
   "source": []
  }
 ],
 "metadata": {
  "kernelspec": {
   "display_name": "Python 3",
   "language": "python",
   "name": "python3"
  },
  "language_info": {
   "codemirror_mode": {
    "name": "ipython",
    "version": 3
   },
   "file_extension": ".py",
   "mimetype": "text/x-python",
   "name": "python",
   "nbconvert_exporter": "python",
   "pygments_lexer": "ipython3",
   "version": "3.7.3"
  }
 },
 "nbformat": 4,
 "nbformat_minor": 2
}
